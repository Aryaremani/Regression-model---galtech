{
 "cells": [
  {
   "cell_type": "code",
   "execution_count": 3,
   "id": "5d51f874",
   "metadata": {},
   "outputs": [
    {
     "name": "stdout",
     "output_type": "stream",
     "text": [
      "<class 'pandas.core.frame.DataFrame'>\n",
      "RangeIndex: 40 entries, 0 to 39\n",
      "Data columns (total 12 columns):\n",
      " #   Column                   Non-Null Count  Dtype  \n",
      "---  ------                   --------------  -----  \n",
      " 0   price                    40 non-null     int64  \n",
      " 1   area_sqft                40 non-null     int64  \n",
      " 2   bedrooms                 40 non-null     int64  \n",
      " 3   bathrooms                40 non-null     float64\n",
      " 4   year_built               40 non-null     int64  \n",
      " 5   location                 40 non-null     object \n",
      " 6   distance_to_city_center  40 non-null     float64\n",
      " 7   has_garage               40 non-null     int64  \n",
      " 8   has_pool                 40 non-null     int64  \n",
      " 9   condition                40 non-null     int64  \n",
      " 10  crime_rate               40 non-null     float64\n",
      " 11  school_rating            40 non-null     int64  \n",
      "dtypes: float64(3), int64(8), object(1)\n",
      "memory usage: 3.9+ KB\n",
      "Training samples: 32, Test samples: 8\n",
      "Model training complete.\n",
      "Mean Squared Error: 1228713522.95\n",
      "R-squared: 0.96\n",
      "    Actual      Predicted\n",
      "19  305000  314389.543071\n",
      "16  320000  277232.104800\n",
      "15  690000  624437.465270\n",
      "26  390000  414695.013879\n",
      "4   720000  745801.217773\n",
      "Index(['price', 'area_sqft', 'bedrooms', 'bathrooms', 'year_built',\n",
      "       'distance_to_city_center', 'has_garage', 'has_pool', 'condition',\n",
      "       'crime_rate', 'school_rating', 'location_EastSide',\n",
      "       'location_GreenValley', 'location_IndustrialDist', 'location_LakeFront',\n",
      "       'location_NorthDale', 'location_OakView', 'location_RiverSide',\n",
      "       'location_SouthEnd', 'location_WestVilla'],\n",
      "      dtype='object')\n"
     ]
    }
   ],
   "source": [
    "import pandas as pd\n",
    "import numpy as np\n",
    "from sklearn.model_selection import train_test_split\n",
    "from sklearn.linear_model import LinearRegression\n",
    "from sklearn.metrics import mean_squared_error, r2_score\n",
    "from sklearn.preprocessing import StandardScaler, OneHotEncoder\n",
    "df = pd.read_csv(\"C:/Users/aryam/Downloads/house (1) (1).csv\")\n",
    "df.head()\n",
    "df.info()\n",
    "df.isnull().sum()\n",
    "numeric_cols = df.select_dtypes(include=[np.number]).columns\n",
    "categorical_cols = df.select_dtypes(include=['object']).columns\n",
    "for col in numeric_cols:\n",
    "    df[col].fillna(df[col].median(), inplace=True)\n",
    "for col in categorical_cols:\n",
    "    df[col].fillna(df[col].mode()[0], inplace=True)\n",
    "if len(categorical_cols) > 0:\n",
    "    df = pd.get_dummies(df, columns=categorical_cols, drop_first=True)\n",
    "scaler = StandardScaler()\n",
    "features = df.drop('price', axis=1)\n",
    "target = df['price']\n",
    "features_scaled = scaler.fit_transform(features)\n",
    "X_train, X_test, y_train, y_test = train_test_split(features_scaled, target, test_size=0.2, random_state=42)\n",
    "print(f'Training samples: {X_train.shape[0]}, Test samples: {X_test.shape[0]}')\n",
    "model = LinearRegression()\n",
    "model.fit(X_train, y_train)\n",
    "print('Model training complete.')\n",
    "y_pred = model.predict(X_test)\n",
    "mse = mean_squared_error(y_test, y_pred)\n",
    "r2 = r2_score(y_test, y_pred)\n",
    "print(f'Mean Squared Error: {mse:.2f}')\n",
    "print(f'R-squared: {r2:.2f}')\n",
    "results = pd.DataFrame({'Actual': y_test, 'Predicted': y_pred})\n",
    "print(results.head())\n",
    "\n",
    "print(df.columns)"
   ]
  },
  {
   "cell_type": "code",
   "execution_count": 2,
   "id": "abec7af8",
   "metadata": {},
   "outputs": [
    {
     "data": {
      "text/plain": [
       "Index(['price', 'area_sqft', 'bedrooms', 'bathrooms', 'year_built',\n",
       "       'distance_to_city_center', 'has_garage', 'has_pool', 'condition',\n",
       "       'crime_rate', 'school_rating', 'location_EastSide',\n",
       "       'location_GreenValley', 'location_IndustrialDist', 'location_LakeFront',\n",
       "       'location_NorthDale', 'location_OakView', 'location_RiverSide',\n",
       "       'location_SouthEnd', 'location_WestVilla'],\n",
       "      dtype='object')"
      ]
     },
     "execution_count": 2,
     "metadata": {},
     "output_type": "execute_result"
    }
   ],
   "source": [
    "df.columns\n"
   ]
  },
  {
   "cell_type": "code",
   "execution_count": null,
   "id": "b3af88f9",
   "metadata": {},
   "outputs": [],
   "source": []
  }
 ],
 "metadata": {
  "kernelspec": {
   "display_name": "Python 3 (ipykernel)",
   "language": "python",
   "name": "python3"
  },
  "language_info": {
   "codemirror_mode": {
    "name": "ipython",
    "version": 3
   },
   "file_extension": ".py",
   "mimetype": "text/x-python",
   "name": "python",
   "nbconvert_exporter": "python",
   "pygments_lexer": "ipython3",
   "version": "3.11.5"
  }
 },
 "nbformat": 4,
 "nbformat_minor": 5
}
